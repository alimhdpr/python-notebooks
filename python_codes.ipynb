{
  "cells": [
    {
      "cell_type": "markdown",
      "metadata": {
        "id": "view-in-github",
        "colab_type": "text"
      },
      "source": [
        "<a href=\"https://colab.research.google.com/github/alimhdpr/python-notebooks/blob/main/python_codes.ipynb\" target=\"_parent\"><img src=\"https://colab.research.google.com/assets/colab-badge.svg\" alt=\"Open In Colab\"/></a>"
      ]
    },
    {
      "cell_type": "code",
      "source": [
        "# single digit odd numbers\n",
        "x = 1\n",
        "while x < 10:\n",
        "  print(x)\n",
        "  x = x + 2"
      ],
      "metadata": {
        "id": "28GwDYcfYTxL"
      },
      "execution_count": null,
      "outputs": []
    },
    {
      "cell_type": "code",
      "source": [
        "# sum of double-digit even numbers\n",
        "x = 10\n",
        "sum = 0\n",
        "while x <= 98:\n",
        "  sum = x + sum\n",
        "  x = x + 2\n",
        "print(sum)"
      ],
      "metadata": {
        "id": "98DpGYB-M6gs"
      },
      "execution_count": null,
      "outputs": []
    },
    {
      "cell_type": "code",
      "source": [
        "# sum of natural numbers lower than 6 \n",
        "x = 1\n",
        "sum = 0\n",
        "while x < 6:\n",
        "  sum = sum + x\n",
        "  x = x +1\n",
        "print(sum)"
      ],
      "metadata": {
        "id": "e65mzFbwNwi0"
      },
      "execution_count": null,
      "outputs": []
    },
    {
      "cell_type": "code",
      "source": [
        "# sum of three-digit odd numbers\n",
        "x = 101\n",
        "sum = 0\n",
        "while x <= 999:\n",
        "  sum = sum + x\n",
        "  x = x + 2\n",
        "print(sum)"
      ],
      "metadata": {
        "id": "2IV_LbpYPSpu"
      },
      "execution_count": null,
      "outputs": []
    },
    {
      "cell_type": "code",
      "source": [
        "# multiples of number (3) in range(50, 150)\n",
        "x = 51\n",
        "while x < 150:\n",
        "  print(x)\n",
        "  x = x + 3"
      ],
      "metadata": {
        "id": "XiGa-KcbPuVJ"
      },
      "execution_count": null,
      "outputs": []
    },
    {
      "cell_type": "code",
      "source": [
        "# number of divisors of number (x) using (for)\n",
        "x = int(input())\n",
        "# i = 1\n",
        "for i in range(1, (x + 1)):\n",
        "  if x % i == 0:\n",
        "    print(i)\n",
        "    # i = i + 1"
      ],
      "metadata": {
        "id": "yFIfk5ICMcmd"
      },
      "execution_count": null,
      "outputs": []
    },
    {
      "cell_type": "code",
      "source": [
        "# number of divisors of number (x) using (for)\n",
        "x = int(input())\n",
        "# i = 1\n",
        "n = 0\n",
        "for i in range(1, (x + 1)):\n",
        "  if x % i == 0:\n",
        "    # i = i + 1\n",
        "    n = n + 1\n",
        "print(n)"
      ],
      "metadata": {
        "id": "sMjy9gb1X54B"
      },
      "execution_count": null,
      "outputs": []
    },
    {
      "cell_type": "code",
      "source": [
        "# divisors of number (x) using (while)\n",
        "x = int(input())\n",
        "i = 1\n",
        "while 1 <= i <= x:\n",
        "  if x % i == 0:\n",
        "    print(i)\n",
        "  i = i + 1"
      ],
      "metadata": {
        "id": "PAl8DXjGBhp4"
      },
      "execution_count": null,
      "outputs": []
    },
    {
      "cell_type": "code",
      "source": [
        "# number of divisors of number (x) using (while)\n",
        "x = int(input())\n",
        "i = 1\n",
        "n = 0\n",
        "while 1 <= i <= x:\n",
        "  if x % i == 0:\n",
        "    n = n + 1\n",
        "  i = i + 1\n",
        "print(n)"
      ],
      "metadata": {
        "id": "BE6epzyB-q6g"
      },
      "execution_count": null,
      "outputs": []
    },
    {
      "cell_type": "code",
      "source": [
        "# detecting prime number\n",
        "x = int(input())\n",
        "i = 1\n",
        "n = 0\n",
        "while 1 <= i <= x:\n",
        "  if x % i == 0:\n",
        "    n = n + 1\n",
        "  i = i + 1\n",
        "if n == 2:\n",
        "  print(x, \"is prime\")\n",
        "else:\n",
        "  print(n)\n",
        "  print(x, \"is composite\")"
      ],
      "metadata": {
        "id": "Z3vYbW_emx8b"
      },
      "execution_count": null,
      "outputs": []
    },
    {
      "cell_type": "code",
      "source": [
        "# sum of digits of a number\n",
        "x = int(input())\n",
        "sum = 0\n",
        "while x > 0:\n",
        "  d = x % 10\n",
        "  sum = sum + d\n",
        "  x = (x - d) / 10\n",
        "print(sum)"
      ],
      "metadata": {
        "id": "SXCu8O08HqpY"
      },
      "execution_count": null,
      "outputs": []
    },
    {
      "cell_type": "code",
      "source": [
        "# sum of divisors of number (x) using (while)\n",
        "x = int(input())\n",
        "i = 1\n",
        "sum = 0\n",
        "while 1 <= i <= x:\n",
        "  if x % i == 0:\n",
        "    sum = sum + i\n",
        "  i = i + 1\n",
        "print(sum)"
      ],
      "metadata": {
        "id": "IOnOR8l4KLwp"
      },
      "execution_count": null,
      "outputs": []
    },
    {
      "cell_type": "code",
      "source": [
        "# sum of divisors of number (x) using (for)\n",
        "x = int(input())\n",
        "sum = 0\n",
        "for i in range(1, (x + 1)):\n",
        "  if x % i == 0:\n",
        "    sum = sum + i\n",
        "print(sum)"
      ],
      "metadata": {
        "id": "SNiqbjEYKqep"
      },
      "execution_count": null,
      "outputs": []
    },
    {
      "cell_type": "code",
      "source": [
        "# numbers between (x) and (y)\n",
        "x = int(input())\n",
        "y = int(input())\n",
        "if x > y:\n",
        "  i = y + 1\n",
        "  while i < x:\n",
        "    print(i)\n",
        "    i = i + 1\n",
        "else:\n",
        "  i = x + 1\n",
        "  while i < y:\n",
        "    print(i)\n",
        "    i = i + 1"
      ],
      "metadata": {
        "id": "A9RUzeEAM_tf"
      },
      "execution_count": null,
      "outputs": []
    },
    {
      "cell_type": "code",
      "source": [
        "# reversing the digits of a number\n",
        "x = int(input())\n",
        "n = 0\n",
        "h = x\n",
        "z = x % 10\n",
        "while x > 0:\n",
        "  d = x % 10\n",
        "  n = n + 1\n",
        "  x = (x - d) / 10\n",
        "t = h % (10 ** (n - 1)) \n",
        "a = z * (10 ** (n - 1))\n",
        "b = a + h\n",
        "c = b - t \n",
        "e = c / (10 ** (n - 1))\n",
        "j = 1\n",
        "for i in range(1 , n):\n",
        "  j = j + 10 ** i \n",
        "  i = i +1\n",
        "f = j * e\n",
        "g = f - h\n",
        "print(g)"
      ],
      "metadata": {
        "id": "6fhl0x_VWFIB"
      },
      "execution_count": null,
      "outputs": []
    },
    {
      "cell_type": "code",
      "source": [
        "# prime numbers less than 100\n",
        "for x in range(1, 100):\n",
        "  n = 0\n",
        "  i = 1\n",
        "  while 1 <= i <= x:\n",
        "    if x % i == 0:\n",
        "      n = n + 1\n",
        "    i = i + 1\n",
        "  if n == 2:\n",
        "    print(x)"
      ],
      "metadata": {
        "id": "lkkEsZEU3BeK"
      },
      "execution_count": null,
      "outputs": []
    },
    {
      "cell_type": "code",
      "source": [
        "# second degree equation solver\n",
        "print('\\033[1m' + 'attention!' + '\\033[0m', \"enter your multiples fractionally (I do not give a fuck about your periodic multiples)\")\n",
        "print(\"enter a\")\n",
        "a = float(input())\n",
        "print(\"enter b\")\n",
        "b = float(input())\n",
        "print(\"enter c\")\n",
        "c = float(input())\n",
        "if a == 0: \n",
        "  print(\"the second degree equation is not valid\")\n",
        "else:\n",
        "  Δ = b ** 2 - 4 * a * c\n",
        "  if Δ == 0:\n",
        "    α = (-b / 2 * a)\n",
        "    print(α)\n",
        "  else:\n",
        "    α = ( - b - (Δ ** 0.5)) / (2 * a)\n",
        "    β = ( - b + (Δ ** 0.5)) / (2 * a)\n",
        "    print(α, β)"
      ],
      "metadata": {
        "id": "s8iIbdgI4zRb"
      },
      "execution_count": null,
      "outputs": []
    },
    {
      "cell_type": "code",
      "source": [
        "# minimum number of 5, 2 and 1 $ coins to make n$\n",
        "n = int(input())\n",
        "if n % 5 == 0:\n",
        "  a = n / 5\n",
        "  print(a)\n",
        "else:\n",
        "  b = n % 5\n",
        "  c = (n - b) / 5\n",
        "  if b % 2 == 0:\n",
        "    d = b / 2\n",
        "    print(c, d)\n",
        "  else:\n",
        "    e = b % 2\n",
        "    f = (b - e) / 2\n",
        "    print(c, f, e)"
      ],
      "metadata": {
        "id": "tlBOfqmWATa1"
      },
      "execution_count": null,
      "outputs": []
    },
    {
      "cell_type": "code",
      "source": [
        "# sum of wheat beans in 64th square of chess\n",
        "x = 1\n",
        "sum = 0\n",
        "while x < (2 ** 64):\n",
        "  sum  = sum + x\n",
        "  x = (x * 2)\n",
        "print(sum)"
      ],
      "metadata": {
        "id": "73NS60-Ulnot"
      },
      "execution_count": null,
      "outputs": []
    },
    {
      "cell_type": "code",
      "source": [
        "# Two Equations, Two Unknowns \n",
        "a = float(input())\n",
        "b = float(input())\n",
        "e = float(input())\n",
        "c = float(input())\n",
        "d = float(input())\n",
        "f = float(input())\n",
        "if a < c: \n",
        "  g = (c / a)\n",
        "  b = b * g \n",
        "  e = e * g\n",
        "  y = (e - f) / (b - d)\n",
        "  x = (f - (d * y)) / c\n",
        "  print(x, y)\n",
        "else:\n",
        "  h = (a / c)\n",
        "  d = d * h\n",
        "  f = f * h\n",
        "  y = (f - e) / (d - b)\n",
        "  x = (e - (b * y)) / a\n",
        "  print(x, y) "
      ],
      "metadata": {
        "id": "YBM7JwLxaqdQ"
      },
      "execution_count": null,
      "outputs": []
    },
    {
      "cell_type": "code",
      "source": [
        "x = 6165168685215312\n",
        "n = - 1\n",
        "while x > 0:\n",
        "  d = x % 10\n",
        "  n = n + 1\n",
        "  x = (x - d) / 10\n"
      ],
      "metadata": {
        "id": "9Mrh2_clhuNC"
      },
      "execution_count": null,
      "outputs": []
    }
  ],
  "metadata": {
    "colab": {
      "collapsed_sections": [],
      "provenance": [],
      "include_colab_link": true
    },
    "kernelspec": {
      "display_name": "Python 3",
      "name": "python3"
    }
  },
  "nbformat": 4,
  "nbformat_minor": 0
}