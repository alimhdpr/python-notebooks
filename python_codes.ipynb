{
  "cells": [
    {
      "cell_type": "markdown",
      "metadata": {
        "id": "view-in-github",
        "colab_type": "text"
      },
      "source": [
        "<a href=\"https://colab.research.google.com/github/alimhdpr/toro-khoda-kar-kon/blob/main/python_codes.ipynb\" target=\"_parent\"><img src=\"https://colab.research.google.com/assets/colab-badge.svg\" alt=\"Open In Colab\"/></a>"
      ]
    },
    {
      "cell_type": "code",
      "source": [
        "# 1 digital odd numbers\n",
        "x = 1\n",
        "while x < 10:\n",
        "  print(x)\n",
        "  x = x + 2"
      ],
      "metadata": {
        "id": "28GwDYcfYTxL"
      },
      "execution_count": null,
      "outputs": []
    },
    {
      "cell_type": "code",
      "source": [
        "# sum of double-digit even numbers\n",
        "x = 10\n",
        "sum = 0\n",
        "while x <= 98:\n",
        "  sum = x + sum\n",
        "  x = x + 2\n",
        "print(sum)"
      ],
      "metadata": {
        "id": "98DpGYB-M6gs"
      },
      "execution_count": null,
      "outputs": []
    },
    {
      "cell_type": "code",
      "source": [
        "# sum of natural numbers lower than 6 \n",
        "x = 1\n",
        "sum = 0\n",
        "while x < 6:\n",
        "  sum = sum + x\n",
        "  x = x +1\n",
        "print(sum)"
      ],
      "metadata": {
        "id": "e65mzFbwNwi0"
      },
      "execution_count": null,
      "outputs": []
    },
    {
      "cell_type": "code",
      "source": [
        "# sum of three-digit odd numbers\n",
        "x = 101\n",
        "sum = 0\n",
        "while x <= 999:\n",
        "  sum = sum + x\n",
        "  x = x + 2\n",
        "print(sum)"
      ],
      "metadata": {
        "id": "2IV_LbpYPSpu"
      },
      "execution_count": null,
      "outputs": []
    },
    {
      "cell_type": "code",
      "source": [
        "# multiples of number (3) in range(50, 150)\n",
        "x = 51\n",
        "while x < 150:\n",
        "  print(x)\n",
        "  x = x + 3"
      ],
      "metadata": {
        "id": "XiGa-KcbPuVJ"
      },
      "execution_count": null,
      "outputs": []
    },
    {
      "cell_type": "code",
      "source": [
        "# divisors of number (x) using (for)\n",
        "x = int(input())\n",
        "# i = 1\n",
        "for i in range(1, x):\n",
        "  if x % i == 0:\n",
        "    print(i)\n",
        "    # i = i + 1 ------> for in range() does not need line 6 and 2\n",
        "print(x)"
      ],
      "metadata": {
        "id": "JkrEavc95igy"
      },
      "execution_count": null,
      "outputs": []
    },
    {
      "cell_type": "code",
      "source": [
        "# number of divisors of number (x) using (for)\n",
        "x = int(input())\n",
        "# i = 1\n",
        "n = 1\n",
        "for i in range(1, x):\n",
        "  if x % i == 0:\n",
        "    # i = i + 1\n",
        "    n = n + 1\n",
        "print(n)"
      ],
      "metadata": {
        "id": "sMjy9gb1X54B"
      },
      "execution_count": null,
      "outputs": []
    },
    {
      "cell_type": "code",
      "source": [
        "# divisors of number (x) using (while)\n",
        "x = int(input())\n",
        "i = 1\n",
        "while 1 <= i <= x:\n",
        "  if x % i == 0:\n",
        "    print(i)\n",
        "  i = i + 1"
      ],
      "metadata": {
        "id": "PAl8DXjGBhp4"
      },
      "execution_count": null,
      "outputs": []
    },
    {
      "cell_type": "code",
      "source": [
        "# number of divisors of number (x) using (while)\n",
        "x = int(input())\n",
        "i = 1\n",
        "n = 0\n",
        "while 1 <= i <= x:\n",
        "  if x % i == 0:\n",
        "    n = n + 1\n",
        "  i = i + 1\n",
        "print(n)"
      ],
      "metadata": {
        "id": "BE6epzyB-q6g"
      },
      "execution_count": null,
      "outputs": []
    }
  ],
  "metadata": {
    "colab": {
      "collapsed_sections": [],
      "provenance": [],
      "include_colab_link": true
    },
    "kernelspec": {
      "display_name": "Python 3",
      "name": "python3"
    }
  },
  "nbformat": 4,
  "nbformat_minor": 0
}