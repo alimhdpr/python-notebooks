{
  "cells": [
    {
      "cell_type": "markdown",
      "metadata": {
        "id": "view-in-github",
        "colab_type": "text"
      },
      "source": [
        "<a href=\"https://colab.research.google.com/github/alimhdpr/python-notebooks/blob/main/Copy_of_python_codes.ipynb\" target=\"_parent\"><img src=\"https://colab.research.google.com/assets/colab-badge.svg\" alt=\"Open In Colab\"/></a>"
      ]
    },
    {
      "cell_type": "code",
      "source": [
        "# single digit odd numbers\n",
        "x = 1\n",
        "while x < 10:\n",
        "  print(x)\n",
        "  x = x + 2"
      ],
      "metadata": {
        "id": "28GwDYcfYTxL"
      },
      "execution_count": null,
      "outputs": []
    },
    {
      "cell_type": "code",
      "source": [
        "# sum of double-digit even numbers\n",
        "x = 10\n",
        "sum = 0\n",
        "while x <= 98:\n",
        "  sum = x + sum\n",
        "  x = x + 2\n",
        "print(sum)"
      ],
      "metadata": {
        "id": "98DpGYB-M6gs"
      },
      "execution_count": null,
      "outputs": []
    },
    {
      "cell_type": "code",
      "source": [
        "# sum of natural numbers lower than 6 \n",
        "x = 1\n",
        "sum = 0\n",
        "while x < 6:\n",
        "  sum = sum + x\n",
        "  x = x +1\n",
        "print(sum)"
      ],
      "metadata": {
        "id": "e65mzFbwNwi0"
      },
      "execution_count": null,
      "outputs": []
    },
    {
      "cell_type": "code",
      "source": [
        "# sum of three-digit odd numbers\n",
        "x = 101\n",
        "sum = 0\n",
        "while x <= 999:\n",
        "  sum = sum + x\n",
        "  x = x + 2\n",
        "print(sum)"
      ],
      "metadata": {
        "id": "2IV_LbpYPSpu"
      },
      "execution_count": null,
      "outputs": []
    },
    {
      "cell_type": "code",
      "source": [
        "# multiples of number (3) in range(50, 150)\n",
        "x = 51\n",
        "while x < 150:\n",
        "  print(x)\n",
        "  x = x + 3"
      ],
      "metadata": {
        "id": "XiGa-KcbPuVJ"
      },
      "execution_count": null,
      "outputs": []
    },
    {
      "cell_type": "code",
      "source": [
        "# number of divisors of number (x) using (for)\n",
        "x = int(input())\n",
        "# i = 1\n",
        "for i in range(1, (x + 1)):\n",
        "  if x % i == 0:\n",
        "    print(i)\n",
        "    # i = i + 1"
      ],
      "metadata": {
        "id": "yFIfk5ICMcmd"
      },
      "execution_count": null,
      "outputs": []
    },
    {
      "cell_type": "code",
      "source": [
        "# number of divisors of number (x) using (for)\n",
        "x = int(input())\n",
        "# i = 1\n",
        "n = 0\n",
        "for i in range(1, (x + 1)):\n",
        "  if x % i == 0:\n",
        "    # i = i + 1\n",
        "    n = n + 1\n",
        "print(n)"
      ],
      "metadata": {
        "id": "sMjy9gb1X54B"
      },
      "execution_count": null,
      "outputs": []
    },
    {
      "cell_type": "code",
      "source": [
        "# divisors of number (x) using (while)\n",
        "x = int(input())\n",
        "i = 1\n",
        "while 1 <= i <= x:\n",
        "  if x % i == 0:\n",
        "    print(i)\n",
        "  i = i + 1"
      ],
      "metadata": {
        "id": "PAl8DXjGBhp4"
      },
      "execution_count": null,
      "outputs": []
    },
    {
      "cell_type": "code",
      "source": [
        "# number of divisors of number (x) using (while)\n",
        "x = int(input())\n",
        "i = 1\n",
        "n = 0\n",
        "while 1 <= i <= x:\n",
        "  if x % i == 0:\n",
        "    n = n + 1\n",
        "  i = i + 1\n",
        "print(n)"
      ],
      "metadata": {
        "id": "BE6epzyB-q6g"
      },
      "execution_count": null,
      "outputs": []
    },
    {
      "cell_type": "code",
      "source": [
        "# detecting prime number\n",
        "x = int(input())\n",
        "i = 1\n",
        "n = 0\n",
        "while 1 <= i <= x:\n",
        "  if x % i == 0:\n",
        "    n = n + 1\n",
        "  i = i + 1\n",
        "if n == 2:\n",
        "  print(x, \"is prime\")\n",
        "else:\n",
        "  print(n)\n",
        "  print(x, \"is composite\")"
      ],
      "metadata": {
        "id": "Z3vYbW_emx8b"
      },
      "execution_count": null,
      "outputs": []
    },
    {
      "cell_type": "code",
      "source": [
        "# sum of digits of a number\n",
        "x = int(input())\n",
        "sum = 0\n",
        "while x > 0:\n",
        "  d = x % 10\n",
        "  sum = sum + d\n",
        "  x = (x - d) / 10\n",
        "print(sum)"
      ],
      "metadata": {
        "id": "SXCu8O08HqpY"
      },
      "execution_count": null,
      "outputs": []
    },
    {
      "cell_type": "code",
      "source": [
        "# sum of divisors of number (x) using (while)\n",
        "x = int(input())\n",
        "i = 1\n",
        "sum = 0\n",
        "while 1 <= i <= x:\n",
        "  if x % i == 0:\n",
        "    sum = sum + i\n",
        "  i = i + 1\n",
        "print(sum)"
      ],
      "metadata": {
        "id": "IOnOR8l4KLwp"
      },
      "execution_count": null,
      "outputs": []
    },
    {
      "cell_type": "code",
      "source": [
        "# sum of divisors of number (x) using (for)\n",
        "x = int(input())\n",
        "sum = 0\n",
        "for i in range(1, (x + 1)):\n",
        "  if x % i == 0:\n",
        "    sum = sum + i\n",
        "print(sum)"
      ],
      "metadata": {
        "id": "SNiqbjEYKqep"
      },
      "execution_count": null,
      "outputs": []
    },
    {
      "cell_type": "code",
      "source": [
        "# numbers between (x) and (y)\n",
        "x = int(input())\n",
        "y = int(input())\n",
        "if x > y:\n",
        "  i = y + 1\n",
        "  while i < x:\n",
        "    print(i)\n",
        "    i = i + 1\n",
        "else:\n",
        "  i = x + 1\n",
        "  while i < y:\n",
        "    print(i)\n",
        "    i = i + 1"
      ],
      "metadata": {
        "id": "A9RUzeEAM_tf"
      },
      "execution_count": null,
      "outputs": []
    }
  ],
  "metadata": {
    "colab": {
      "collapsed_sections": [],
      "provenance": [],
      "include_colab_link": true
    },
    "kernelspec": {
      "display_name": "Python 3",
      "name": "python3"
    }
  },
  "nbformat": 4,
  "nbformat_minor": 0
}